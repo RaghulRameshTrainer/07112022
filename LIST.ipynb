{
 "cells": [
  {
   "cell_type": "code",
   "execution_count": null,
   "id": "2f24b393",
   "metadata": {},
   "outputs": [],
   "source": [
    "#List is a collection of heterogeneous elemenst"
   ]
  },
  {
   "cell_type": "markdown",
   "id": "a8d97265",
   "metadata": {},
   "source": [
    "# LIST"
   ]
  },
  {
   "cell_type": "code",
   "execution_count": 1,
   "id": "b0ec6d1d",
   "metadata": {},
   "outputs": [],
   "source": [
    "l1=[]"
   ]
  },
  {
   "cell_type": "code",
   "execution_count": 2,
   "id": "e1bc05ea",
   "metadata": {},
   "outputs": [
    {
     "data": {
      "text/plain": [
       "list"
      ]
     },
     "execution_count": 2,
     "metadata": {},
     "output_type": "execute_result"
    }
   ],
   "source": [
    "type(l1)"
   ]
  },
  {
   "cell_type": "code",
   "execution_count": 3,
   "id": "38cb752d",
   "metadata": {},
   "outputs": [],
   "source": [
    "l2=list()"
   ]
  },
  {
   "cell_type": "code",
   "execution_count": 4,
   "id": "1cd0ea38",
   "metadata": {},
   "outputs": [
    {
     "data": {
      "text/plain": [
       "list"
      ]
     },
     "execution_count": 4,
     "metadata": {},
     "output_type": "execute_result"
    }
   ],
   "source": [
    "type(l2)"
   ]
  },
  {
   "cell_type": "code",
   "execution_count": 5,
   "id": "2048e81a",
   "metadata": {},
   "outputs": [],
   "source": [
    "numbers=[1,4,66,33,96,554,88,99]"
   ]
  },
  {
   "cell_type": "code",
   "execution_count": 6,
   "id": "81b52707",
   "metadata": {},
   "outputs": [
    {
     "data": {
      "text/plain": [
       "list"
      ]
     },
     "execution_count": 6,
     "metadata": {},
     "output_type": "execute_result"
    }
   ],
   "source": [
    "type(numbers)"
   ]
  },
  {
   "cell_type": "code",
   "execution_count": 7,
   "id": "cd0d1fb2",
   "metadata": {},
   "outputs": [
    {
     "data": {
      "text/plain": [
       "8"
      ]
     },
     "execution_count": 7,
     "metadata": {},
     "output_type": "execute_result"
    }
   ],
   "source": [
    "len(numbers)"
   ]
  },
  {
   "cell_type": "code",
   "execution_count": 8,
   "id": "2a4b89ce",
   "metadata": {},
   "outputs": [
    {
     "data": {
      "text/plain": [
       "1"
      ]
     },
     "execution_count": 8,
     "metadata": {},
     "output_type": "execute_result"
    }
   ],
   "source": [
    "min(numbers)"
   ]
  },
  {
   "cell_type": "code",
   "execution_count": 9,
   "id": "44229f51",
   "metadata": {},
   "outputs": [
    {
     "data": {
      "text/plain": [
       "554"
      ]
     },
     "execution_count": 9,
     "metadata": {},
     "output_type": "execute_result"
    }
   ],
   "source": [
    "max(numbers)"
   ]
  },
  {
   "cell_type": "code",
   "execution_count": 10,
   "id": "5d6e6bff",
   "metadata": {},
   "outputs": [
    {
     "data": {
      "text/plain": [
       "941"
      ]
     },
     "execution_count": 10,
     "metadata": {},
     "output_type": "execute_result"
    }
   ],
   "source": [
    "sum(numbers)"
   ]
  },
  {
   "cell_type": "code",
   "execution_count": 11,
   "id": "f9f89a65",
   "metadata": {},
   "outputs": [],
   "source": [
    "info=['Raghul Ramesh',18,False,96.53]"
   ]
  },
  {
   "cell_type": "code",
   "execution_count": 12,
   "id": "99eea78f",
   "metadata": {},
   "outputs": [
    {
     "data": {
      "text/plain": [
       "list"
      ]
     },
     "execution_count": 12,
     "metadata": {},
     "output_type": "execute_result"
    }
   ],
   "source": [
    "type(info)"
   ]
  },
  {
   "cell_type": "code",
   "execution_count": 13,
   "id": "d40ac861",
   "metadata": {},
   "outputs": [
    {
     "data": {
      "text/plain": [
       "'Raghul Ramesh'"
      ]
     },
     "execution_count": 13,
     "metadata": {},
     "output_type": "execute_result"
    }
   ],
   "source": [
    "info[0]"
   ]
  },
  {
   "cell_type": "code",
   "execution_count": 14,
   "id": "398f6056",
   "metadata": {},
   "outputs": [
    {
     "data": {
      "text/plain": [
       "18"
      ]
     },
     "execution_count": 14,
     "metadata": {},
     "output_type": "execute_result"
    }
   ],
   "source": [
    "info[1]"
   ]
  },
  {
   "cell_type": "code",
   "execution_count": 15,
   "id": "8016f0d9",
   "metadata": {},
   "outputs": [
    {
     "data": {
      "text/plain": [
       "96.53"
      ]
     },
     "execution_count": 15,
     "metadata": {},
     "output_type": "execute_result"
    }
   ],
   "source": [
    "info[3]"
   ]
  },
  {
   "cell_type": "code",
   "execution_count": 17,
   "id": "a7ba1a75",
   "metadata": {},
   "outputs": [
    {
     "data": {
      "text/plain": [
       "False"
      ]
     },
     "execution_count": 17,
     "metadata": {},
     "output_type": "execute_result"
    }
   ],
   "source": [
    "info[2]"
   ]
  },
  {
   "cell_type": "code",
   "execution_count": 18,
   "id": "943573e9",
   "metadata": {},
   "outputs": [
    {
     "data": {
      "text/plain": [
       "96.53"
      ]
     },
     "execution_count": 18,
     "metadata": {},
     "output_type": "execute_result"
    }
   ],
   "source": [
    "info[-1]"
   ]
  },
  {
   "cell_type": "code",
   "execution_count": 19,
   "id": "75dc074a",
   "metadata": {},
   "outputs": [
    {
     "data": {
      "text/plain": [
       "False"
      ]
     },
     "execution_count": 19,
     "metadata": {},
     "output_type": "execute_result"
    }
   ],
   "source": [
    "info[-2]"
   ]
  },
  {
   "cell_type": "code",
   "execution_count": 20,
   "id": "ea4772e8",
   "metadata": {},
   "outputs": [
    {
     "data": {
      "text/plain": [
       "False"
      ]
     },
     "execution_count": 20,
     "metadata": {},
     "output_type": "execute_result"
    }
   ],
   "source": [
    "info[-2]"
   ]
  },
  {
   "cell_type": "code",
   "execution_count": 21,
   "id": "f0b1e8c3",
   "metadata": {},
   "outputs": [
    {
     "data": {
      "text/plain": [
       "18"
      ]
     },
     "execution_count": 21,
     "metadata": {},
     "output_type": "execute_result"
    }
   ],
   "source": [
    "info[-3]"
   ]
  },
  {
   "cell_type": "code",
   "execution_count": 22,
   "id": "46b03a98",
   "metadata": {},
   "outputs": [],
   "source": [
    "test=[10,20,'Chennai','Bangalore',30,40,50]"
   ]
  },
  {
   "cell_type": "code",
   "execution_count": 23,
   "id": "770489e4",
   "metadata": {},
   "outputs": [
    {
     "ename": "TypeError",
     "evalue": "unsupported operand type(s) for +: 'int' and 'str'",
     "output_type": "error",
     "traceback": [
      "\u001b[1;31m---------------------------------------------------------------------------\u001b[0m",
      "\u001b[1;31mTypeError\u001b[0m                                 Traceback (most recent call last)",
      "Cell \u001b[1;32mIn [23], line 1\u001b[0m\n\u001b[1;32m----> 1\u001b[0m \u001b[38;5;28;43msum\u001b[39;49m\u001b[43m(\u001b[49m\u001b[43mtest\u001b[49m\u001b[43m)\u001b[49m\n",
      "\u001b[1;31mTypeError\u001b[0m: unsupported operand type(s) for +: 'int' and 'str'"
     ]
    }
   ],
   "source": [
    "sum(test)"
   ]
  },
  {
   "cell_type": "code",
   "execution_count": 25,
   "id": "74ea31ed",
   "metadata": {},
   "outputs": [
    {
     "data": {
      "text/plain": [
       "'alo'"
      ]
     },
     "execution_count": 25,
     "metadata": {},
     "output_type": "execute_result"
    }
   ],
   "source": [
    "test[3][4:7]"
   ]
  },
  {
   "cell_type": "code",
   "execution_count": 26,
   "id": "4b61f144",
   "metadata": {},
   "outputs": [
    {
     "data": {
      "text/plain": [
       "[10, 20, 'Chennai', 'Bangalore', 30, 40, 50]"
      ]
     },
     "execution_count": 26,
     "metadata": {},
     "output_type": "execute_result"
    }
   ],
   "source": [
    "test"
   ]
  },
  {
   "cell_type": "code",
   "execution_count": 27,
   "id": "7b660ca8",
   "metadata": {},
   "outputs": [
    {
     "data": {
      "text/plain": [
       "['Chennai', 'Bangalore']"
      ]
     },
     "execution_count": 27,
     "metadata": {},
     "output_type": "execute_result"
    }
   ],
   "source": [
    "test[2:4]"
   ]
  },
  {
   "cell_type": "code",
   "execution_count": 29,
   "id": "079239d5",
   "metadata": {},
   "outputs": [
    {
     "name": "stdout",
     "output_type": "stream",
     "text": [
      "['__add__', '__class__', '__contains__', '__delattr__', '__delitem__', '__dir__', '__doc__', '__eq__', '__format__', '__ge__', '__getattribute__', '__getitem__', '__gt__', '__hash__', '__iadd__', '__imul__', '__init__', '__init_subclass__', '__iter__', '__le__', '__len__', '__lt__', '__mul__', '__ne__', '__new__', '__reduce__', '__reduce_ex__', '__repr__', '__reversed__', '__rmul__', '__setattr__', '__setitem__', '__sizeof__', '__str__', '__subclasshook__', 'append', 'clear', 'copy', 'count', 'extend', 'index', 'insert', 'pop', 'remove', 'reverse', 'sort']\n"
     ]
    }
   ],
   "source": [
    "print(dir(test))"
   ]
  },
  {
   "cell_type": "code",
   "execution_count": 30,
   "id": "1017d889",
   "metadata": {},
   "outputs": [],
   "source": [
    "num=[1,2,3,4,5]"
   ]
  },
  {
   "cell_type": "code",
   "execution_count": 31,
   "id": "55d0ffd8",
   "metadata": {},
   "outputs": [
    {
     "data": {
      "text/plain": [
       "[1, 2, 3, 4, 5]"
      ]
     },
     "execution_count": 31,
     "metadata": {},
     "output_type": "execute_result"
    }
   ],
   "source": [
    "num"
   ]
  },
  {
   "cell_type": "code",
   "execution_count": 32,
   "id": "6c859303",
   "metadata": {},
   "outputs": [],
   "source": [
    "num.append(6)"
   ]
  },
  {
   "cell_type": "code",
   "execution_count": 33,
   "id": "3e054273",
   "metadata": {},
   "outputs": [
    {
     "data": {
      "text/plain": [
       "[1, 2, 3, 4, 5, 6]"
      ]
     },
     "execution_count": 33,
     "metadata": {},
     "output_type": "execute_result"
    }
   ],
   "source": [
    "num"
   ]
  },
  {
   "cell_type": "code",
   "execution_count": 34,
   "id": "d826a20b",
   "metadata": {},
   "outputs": [],
   "source": [
    "num.append(7)"
   ]
  },
  {
   "cell_type": "code",
   "execution_count": 35,
   "id": "0c36b3a1",
   "metadata": {},
   "outputs": [
    {
     "data": {
      "text/plain": [
       "[1, 2, 3, 4, 5, 6, 7]"
      ]
     },
     "execution_count": 35,
     "metadata": {},
     "output_type": "execute_result"
    }
   ],
   "source": [
    "num"
   ]
  },
  {
   "cell_type": "code",
   "execution_count": 36,
   "id": "1fa1b971",
   "metadata": {},
   "outputs": [],
   "source": [
    "num.append('Python')"
   ]
  },
  {
   "cell_type": "code",
   "execution_count": 37,
   "id": "65a1b2d1",
   "metadata": {},
   "outputs": [
    {
     "data": {
      "text/plain": [
       "[1, 2, 3, 4, 5, 6, 7, 'Python']"
      ]
     },
     "execution_count": 37,
     "metadata": {},
     "output_type": "execute_result"
    }
   ],
   "source": [
    "num"
   ]
  },
  {
   "cell_type": "code",
   "execution_count": 38,
   "id": "58be7a0c",
   "metadata": {},
   "outputs": [
    {
     "ename": "TypeError",
     "evalue": "append() takes exactly one argument (2 given)",
     "output_type": "error",
     "traceback": [
      "\u001b[1;31m---------------------------------------------------------------------------\u001b[0m",
      "\u001b[1;31mTypeError\u001b[0m                                 Traceback (most recent call last)",
      "Cell \u001b[1;32mIn [38], line 1\u001b[0m\n\u001b[1;32m----> 1\u001b[0m \u001b[43mnum\u001b[49m\u001b[38;5;241;43m.\u001b[39;49m\u001b[43mappend\u001b[49m\u001b[43m(\u001b[49m\u001b[38;5;124;43m'\u001b[39;49m\u001b[38;5;124;43mExcelR\u001b[39;49m\u001b[38;5;124;43m'\u001b[39;49m\u001b[43m,\u001b[49m\u001b[38;5;124;43m'\u001b[39;49m\u001b[38;5;124;43mData Analytics\u001b[39;49m\u001b[38;5;124;43m'\u001b[39;49m\u001b[43m)\u001b[49m\n",
      "\u001b[1;31mTypeError\u001b[0m: append() takes exactly one argument (2 given)"
     ]
    }
   ],
   "source": [
    "num.append('ExcelR','Data Analytics')"
   ]
  },
  {
   "cell_type": "code",
   "execution_count": 39,
   "id": "2db4860f",
   "metadata": {},
   "outputs": [],
   "source": [
    "num.append(['ExcelR','Data Analytics'])"
   ]
  },
  {
   "cell_type": "code",
   "execution_count": 40,
   "id": "d2d036e8",
   "metadata": {},
   "outputs": [
    {
     "data": {
      "text/plain": [
       "[1, 2, 3, 4, 5, 6, 7, 'Python', ['ExcelR', 'Data Analytics']]"
      ]
     },
     "execution_count": 40,
     "metadata": {},
     "output_type": "execute_result"
    }
   ],
   "source": [
    "num"
   ]
  },
  {
   "cell_type": "code",
   "execution_count": 41,
   "id": "f08fbd42",
   "metadata": {},
   "outputs": [
    {
     "data": {
      "text/plain": [
       "['ExcelR', 'Data Analytics']"
      ]
     },
     "execution_count": 41,
     "metadata": {},
     "output_type": "execute_result"
    }
   ],
   "source": [
    "num[-1]"
   ]
  },
  {
   "cell_type": "code",
   "execution_count": 42,
   "id": "8cef88b8",
   "metadata": {},
   "outputs": [
    {
     "data": {
      "text/plain": [
       "[1, 2, 3, 4, 5, 6, 7, 'Python', ['ExcelR', 'Data Analytics']]"
      ]
     },
     "execution_count": 42,
     "metadata": {},
     "output_type": "execute_result"
    }
   ],
   "source": [
    "num"
   ]
  },
  {
   "cell_type": "code",
   "execution_count": 43,
   "id": "edb250b5",
   "metadata": {},
   "outputs": [
    {
     "ename": "TypeError",
     "evalue": "extend() takes exactly one argument (2 given)",
     "output_type": "error",
     "traceback": [
      "\u001b[1;31m---------------------------------------------------------------------------\u001b[0m",
      "\u001b[1;31mTypeError\u001b[0m                                 Traceback (most recent call last)",
      "Cell \u001b[1;32mIn [43], line 1\u001b[0m\n\u001b[1;32m----> 1\u001b[0m \u001b[43mnum\u001b[49m\u001b[38;5;241;43m.\u001b[39;49m\u001b[43mextend\u001b[49m\u001b[43m(\u001b[49m\u001b[38;5;124;43m'\u001b[39;49m\u001b[38;5;124;43mChennai\u001b[39;49m\u001b[38;5;124;43m'\u001b[39;49m\u001b[43m,\u001b[49m\u001b[38;5;124;43m'\u001b[39;49m\u001b[38;5;124;43mBanaglore\u001b[39;49m\u001b[38;5;124;43m'\u001b[39;49m\u001b[43m)\u001b[49m\n",
      "\u001b[1;31mTypeError\u001b[0m: extend() takes exactly one argument (2 given)"
     ]
    }
   ],
   "source": [
    "num.extend('Chennai','Banaglore')"
   ]
  },
  {
   "cell_type": "code",
   "execution_count": 44,
   "id": "88b9e94b",
   "metadata": {},
   "outputs": [],
   "source": [
    "num.extend(['Chennai','Banaglore','Hyderabad'])"
   ]
  },
  {
   "cell_type": "code",
   "execution_count": 46,
   "id": "92ad4de2",
   "metadata": {},
   "outputs": [
    {
     "name": "stdout",
     "output_type": "stream",
     "text": [
      "[1, 2, 3, 4, 5, 6, 7, 'Python', ['ExcelR', 'Data Analytics'], 'Chennai', 'Banaglore', 'Hyderabad']\n"
     ]
    }
   ],
   "source": [
    "print(num)"
   ]
  },
  {
   "cell_type": "code",
   "execution_count": 47,
   "id": "6317bba1",
   "metadata": {},
   "outputs": [
    {
     "data": {
      "text/plain": [
       "'Hyderabad'"
      ]
     },
     "execution_count": 47,
     "metadata": {},
     "output_type": "execute_result"
    }
   ],
   "source": [
    "num[-1]"
   ]
  },
  {
   "cell_type": "code",
   "execution_count": 48,
   "id": "51e4f3f1",
   "metadata": {},
   "outputs": [
    {
     "data": {
      "text/plain": [
       "'Banaglore'"
      ]
     },
     "execution_count": 48,
     "metadata": {},
     "output_type": "execute_result"
    }
   ],
   "source": [
    "num[-2]"
   ]
  },
  {
   "cell_type": "code",
   "execution_count": 49,
   "id": "cea6ec85",
   "metadata": {},
   "outputs": [
    {
     "data": {
      "text/plain": [
       "'Chennai'"
      ]
     },
     "execution_count": 49,
     "metadata": {},
     "output_type": "execute_result"
    }
   ],
   "source": [
    "num[-3]"
   ]
  },
  {
   "cell_type": "code",
   "execution_count": 50,
   "id": "77e7d01f",
   "metadata": {},
   "outputs": [],
   "source": [
    "num.insert(0,100)"
   ]
  },
  {
   "cell_type": "code",
   "execution_count": 51,
   "id": "cce97203",
   "metadata": {},
   "outputs": [
    {
     "name": "stdout",
     "output_type": "stream",
     "text": [
      "[100, 1, 2, 3, 4, 5, 6, 7, 'Python', ['ExcelR', 'Data Analytics'], 'Chennai', 'Banaglore', 'Hyderabad']\n"
     ]
    }
   ],
   "source": [
    "print(num)"
   ]
  },
  {
   "cell_type": "code",
   "execution_count": 52,
   "id": "d5a267b4",
   "metadata": {},
   "outputs": [],
   "source": [
    "num.insert(6,5.5)"
   ]
  },
  {
   "cell_type": "code",
   "execution_count": 53,
   "id": "ea7e9ae9",
   "metadata": {},
   "outputs": [
    {
     "name": "stdout",
     "output_type": "stream",
     "text": [
      "[100, 1, 2, 3, 4, 5, 5.5, 6, 7, 'Python', ['ExcelR', 'Data Analytics'], 'Chennai', 'Banaglore', 'Hyderabad']\n"
     ]
    }
   ],
   "source": [
    "print(num)"
   ]
  },
  {
   "cell_type": "code",
   "execution_count": 57,
   "id": "4ec766de",
   "metadata": {},
   "outputs": [
    {
     "data": {
      "text/plain": [
       "['ExcelR', 'PYTHON', 'Data Analytics']"
      ]
     },
     "execution_count": 57,
     "metadata": {},
     "output_type": "execute_result"
    }
   ],
   "source": [
    "num[10].insert(1,'PYTHON')"
   ]
  },
  {
   "cell_type": "code",
   "execution_count": 56,
   "id": "1e5057b6",
   "metadata": {},
   "outputs": [
    {
     "name": "stdout",
     "output_type": "stream",
     "text": [
      "[100, 1, 2, 3, 4, 5, 5.5, 6, 7, 'Python', ['ExcelR', 'PYTHON', 'Data Analytics'], 'Chennai', 'Banaglore', 'Hyderabad']\n"
     ]
    }
   ],
   "source": [
    "print(num)"
   ]
  },
  {
   "cell_type": "code",
   "execution_count": null,
   "id": "cd4cd35b",
   "metadata": {},
   "outputs": [],
   "source": []
  }
 ],
 "metadata": {
  "kernelspec": {
   "display_name": "Python 3 (ipykernel)",
   "language": "python",
   "name": "python3"
  },
  "language_info": {
   "codemirror_mode": {
    "name": "ipython",
    "version": 3
   },
   "file_extension": ".py",
   "mimetype": "text/x-python",
   "name": "python",
   "nbconvert_exporter": "python",
   "pygments_lexer": "ipython3",
   "version": "3.8.10"
  }
 },
 "nbformat": 4,
 "nbformat_minor": 5
}
